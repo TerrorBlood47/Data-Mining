{
 "cells": [
  {
   "cell_type": "code",
   "execution_count": 22,
   "id": "3cf6110d",
   "metadata": {},
   "outputs": [],
   "source": [
    "def read_dataset(filepath):\n",
    "    with open(filepath, 'r') as file:\n",
    "        transactions = [[int(item) for item in line.strip().split()] for line in file.readlines()]\n",
    "    return transactions"
   ]
  },
  {
   "cell_type": "code",
   "execution_count": 23,
   "id": "f0378aa0",
   "metadata": {},
   "outputs": [],
   "source": [
    "from collections import defaultdict\n",
    "\n",
    "class Node:\n",
    "    def __init__(self, item, count, parent):\n",
    "        self.item = item\n",
    "        self.count = count\n",
    "        self.parent = parent\n",
    "        self.children = {}\n",
    "        self.link_next= None\n",
    "\n",
    "\n",
    "    def display(self, ind=1):\n",
    "        print('  ' * ind, f'{self.item}: {self.count}')\n",
    "        for child in self.children.values():\n",
    "            child.display(ind + 1)\n",
    "\n",
    "\n",
    "def BUILD_TREE(transactions, min_support):\n",
    "    header_table = defaultdict(int)\n",
    "    for transaction in transactions:\n",
    "        for item in transaction:\n",
    "            header_table[item] += 1\n",
    "    header_table = {k: v for k, v in header_table.items() if v >= min_support}\n",
    "    if not header_table:\n",
    "        return None, None\n",
    "    for key in header_table:\n",
    "        header_table[key] = [header_table[key], None]\n",
    "    root = Node(None, 1, None)\n",
    "    for transaction in transactions:\n",
    "        filtered_transaction = [item for item in transaction if item in header_table]\n",
    "        filtered_transaction.sort(key=lambda x: header_table[x][0], reverse=True)\n",
    "        insert_tree(filtered_transaction, root, header_table)\n",
    "    return root, header_table\n",
    "\n",
    "def insert_tree(items, node, header_table):\n",
    "    if items:\n",
    "        first_item = items[0]\n",
    "        if first_item in node.children:\n",
    "            node.children[first_item].count += 1\n",
    "        else:\n",
    "            new_node = Node(first_item, 1, node)\n",
    "            node.children[first_item] = new_node\n",
    "            if header_table[first_item][1] is None:\n",
    "                header_table[first_item][1] = new_node\n",
    "            else:\n",
    "                current = header_table[first_item][1]\n",
    "                while current.link_next is not None:\n",
    "                    current = current.link_next\n",
    "                current.link_next= new_node\n",
    "        insert_tree(items[1:], node.children[first_item], header_table)\n",
    "\n",
    "\n",
    "def MINE_TREE(header_table, min_support, prefix, frequent_itemsets):\n",
    "    sorted_items = sorted(header_table.items(), key=lambda x: x[1][0])\n",
    "    for base_item, (count, node) in sorted_items:\n",
    "        new_prefix = prefix.copy()\n",
    "        new_prefix.add(base_item)\n",
    "        frequent_itemsets.append((new_prefix, count))\n",
    "        conditional_pattern_base = []\n",
    "        while node is not None:\n",
    "            path = []\n",
    "            parent = node.parent\n",
    "            while parent is not None and parent.item is not None:\n",
    "                path.append(parent.item)\n",
    "                parent = parent.parent\n",
    "            path.reverse()\n",
    "            for _ in range(node.count):\n",
    "                conditional_pattern_base.append(path)\n",
    "            node = node.link_next\n",
    "        conditional_tree, conditional_header = BUILD_TREE(conditional_pattern_base, min_support)\n",
    "        if conditional_header is not None:\n",
    "            # print(f\"\\nConditional FP-tree for prefix {new_prefix}:\")\n",
    "            # conditional_tree.display()\n",
    "            MINE_TREE(conditional_header, min_support, new_prefix, frequent_itemsets)"
   ]
  },
  {
   "cell_type": "code",
   "execution_count": 24,
   "id": "2fab5954",
   "metadata": {},
   "outputs": [],
   "source": [
    "\n",
    "def FP_TREE_ALGO(Transactions, min_sup):\n",
    "    root, header_table = BUILD_TREE(Transactions, min_sup)\n",
    "    frequent_itemsets = []\n",
    "    if root is not None:\n",
    "        MINE_TREE(header_table, min_sup, set(), frequent_itemsets)\n",
    "\n",
    "    print(f\"length of frequent itemsets : {len(frequent_itemsets)}\")\n",
    "    print(frequent_itemsets)\n",
    "\n"
   ]
  },
  {
   "cell_type": "code",
   "execution_count": 25,
   "id": "95d0304a",
   "metadata": {},
   "outputs": [
    {
     "name": "stdout",
     "output_type": "stream",
     "text": [
      "length of frequent itemsets : 13\n",
      "[({5}, 2), ({2, 5}, 2), ({1, 5}, 2), ({1, 2, 5}, 2), ({4}, 2), ({2, 4}, 2), ({1}, 6), ({1, 2}, 4), ({3}, 6), ({2, 3}, 4), ({1, 3}, 4), ({1, 2, 3}, 2), ({2}, 7)]\n"
     ]
    }
   ],
   "source": [
    "filepath = 'Datasets/sample.txt'\n",
    "Transactions = read_dataset(filepath) \n",
    "min_sup =  2 #math.ceil(0.20 * len(Transactions))\n",
    "\n",
    "FP_TREE_ALGO(Transactions=Transactions, min_sup=min_sup)"
   ]
  }
 ],
 "metadata": {
  "kernelspec": {
   "display_name": "myenv",
   "language": "python",
   "name": "python3"
  },
  "language_info": {
   "codemirror_mode": {
    "name": "ipython",
    "version": 3
   },
   "file_extension": ".py",
   "mimetype": "text/x-python",
   "name": "python",
   "nbconvert_exporter": "python",
   "pygments_lexer": "ipython3",
   "version": "3.12.3"
  }
 },
 "nbformat": 4,
 "nbformat_minor": 5
}

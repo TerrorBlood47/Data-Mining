{
 "cells": [
  {
   "cell_type": "code",
   "execution_count": 23,
   "id": "9d0f6e26",
   "metadata": {},
   "outputs": [],
   "source": [
    "def read_dataset(filepath):\n",
    "    with open(filepath, 'r') as file:\n",
    "        # Read the file and split each transaction by spaces\n",
    "        transactions = [[int(item) for item in line.strip().split()] for line in file.readlines()]\n",
    "    return transactions"
   ]
  },
  {
   "cell_type": "code",
   "execution_count": 24,
   "id": "d11f2d20",
   "metadata": {},
   "outputs": [],
   "source": [
    "from collections import defaultdict\n",
    "\n",
    "def find_frequent_1_itemsets_in_desc(transactions, min_sup):\n",
    "    item_count = defaultdict(int)\n",
    "    for transaction in transactions:\n",
    "        for item in set(transaction):  \n",
    "            item_count[item] += 1\n",
    "    \n",
    "\n",
    "    # print(item_count)\n",
    "\n",
    "    F = set()\n",
    "    for item, count in item_count.items():\n",
    "        if count >= min_sup:\n",
    "            F.add(item)  \n",
    "    \n",
    "\n",
    "    return sorted(list(F), key=lambda x: (-item_count[x], x))\n"
   ]
  },
  {
   "cell_type": "code",
   "execution_count": 25,
   "id": "0ad6eeee",
   "metadata": {},
   "outputs": [],
   "source": [
    "class Node:\n",
    "    def __init__(self, root=False):\n",
    "        self.children = dict() \n",
    "        self.count = 0\n",
    "        self.root = root\n",
    "\n",
    "class Tree:\n",
    "    def __init__(self):\n",
    "        self.root = Node(root=True)\n",
    "\n",
    "    def insert_helper(self, node, itemset, idx):\n",
    "        if idx == len(itemset):\n",
    "            return\n",
    "        \n",
    "        item = itemset[idx]\n",
    "        if item not in node.children:\n",
    "            node.children[item] = Node()\n",
    "        node.children[item].count += 1\n",
    "        self.insert_helper(node.children[item], itemset, idx + 1)\n",
    "\n",
    "    def insert(self, itemset):\n",
    "        self.insert_helper(self.root, itemset, 0)\n",
    "\n",
    "    def print_tree(self):\n",
    "        def _print(node, depth):\n",
    "            for item, child in node.children.items():\n",
    "                print(\"  \" * depth + f\"{item} ({child.count})\")\n",
    "                _print(child, depth + 1)\n",
    "        _print(self.root, 0)\n",
    "\n",
    "def clean_up(transactions, F):\n",
    "    new_transactions = []\n",
    "    F_set = set(F)\n",
    "    for transaction in transactions:\n",
    "        new_transaction = [item for item in F if item in transaction]\n",
    "        if new_transaction:\n",
    "            new_transactions.append(new_transaction)\n",
    "    return new_transactions\n",
    "\n",
    "\n"
   ]
  },
  {
   "cell_type": "code",
   "execution_count": 26,
   "id": "fa1ebdd5",
   "metadata": {},
   "outputs": [
    {
     "name": "stdout",
     "output_type": "stream",
     "text": [
      "2 (7)\n",
      "  1 (4)\n",
      "    5 (1)\n",
      "    4 (1)\n",
      "    3 (2)\n",
      "      5 (1)\n",
      "  4 (1)\n",
      "  3 (2)\n",
      "1 (2)\n",
      "  3 (2)\n"
     ]
    }
   ],
   "source": [
    "import math\n",
    "\n",
    "filepath = 'Datasets/sample.txt'\n",
    "Transactions = read_dataset(filepath) \n",
    "min_sup =  2 #math.ceil(0.20 * len(Transactions))\n",
    "\n",
    "L = []\n",
    "\n",
    "F = find_frequent_1_itemsets_in_desc(Transactions, min_sup)\n",
    "# print(F)\n",
    "\n",
    "# print(Transactions)\n",
    "\n",
    "Transactions = clean_up(Transactions, F)\n",
    "\n",
    "# print(Transactions)\n",
    "\n",
    "tree = Tree()\n",
    "\n",
    "for itemset in Transactions:\n",
    "    tree.insert(itemset)\n",
    "\n",
    "\n",
    "tree.print_tree()\n",
    "\n",
    "\n"
   ]
  }
 ],
 "metadata": {
  "kernelspec": {
   "display_name": "myenv",
   "language": "python",
   "name": "python3"
  },
  "language_info": {
   "codemirror_mode": {
    "name": "ipython",
    "version": 3
   },
   "file_extension": ".py",
   "mimetype": "text/x-python",
   "name": "python",
   "nbconvert_exporter": "python",
   "pygments_lexer": "ipython3",
   "version": "3.12.3"
  }
 },
 "nbformat": 4,
 "nbformat_minor": 5
}

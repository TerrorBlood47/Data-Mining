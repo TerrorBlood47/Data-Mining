{
 "cells": [
  {
   "cell_type": "code",
   "execution_count": 23,
   "id": "2b97f144",
   "metadata": {},
   "outputs": [],
   "source": [
    "import pandas as pd"
   ]
  },
  {
   "cell_type": "code",
   "execution_count": 24,
   "id": "39cd8725",
   "metadata": {},
   "outputs": [],
   "source": [
    "def read_dataset(filepath):\n",
    "    with open(filepath, 'r') as file:\n",
    "        # Read the file and split each transaction by spaces\n",
    "        transactions = [[int(item) for item in line.strip().split()] for line in file.readlines()]\n",
    "    return transactions"
   ]
  },
  {
   "cell_type": "code",
   "execution_count": 25,
   "id": "46f88090",
   "metadata": {},
   "outputs": [],
   "source": [
    "from collections import defaultdict\n",
    "\n",
    "def find_frequent_1_itemsets(transactions, min_sup):\n",
    "    item_count = defaultdict(int)\n",
    "    for transaction in transactions:\n",
    "        for item in set(transaction):  # Ensure that we count unique items\n",
    "            item_count[item] += 1\n",
    "    \n",
    "    L1 = set()\n",
    "    for item, count in item_count.items():\n",
    "        if count >= min_sup:\n",
    "            L1.add(tuple([item]))  # Create a frozenset of the frequent items\n",
    "    \n",
    "\n",
    "    return sorted(list(L1), key=lambda x: sorted(x))\n"
   ]
  },
  {
   "cell_type": "code",
   "execution_count": 26,
   "id": "199c8db0",
   "metadata": {},
   "outputs": [],
   "source": [
    "import copy\n",
    "\n",
    "\n",
    "def has_infrequent_subset(candidate, prev_frequent_itemsets):\n",
    "    # print(f\"candidate : {candidate}\")\n",
    "    # print(f\"prev_freq_itemsets: {prev_frequent_itemsets}\")\n",
    "    for item in candidate:\n",
    "        subset = copy.deepcopy(candidate)\n",
    "        subset.remove(item)\n",
    "        # if subset not in prev_frequent_itemsets:\n",
    "        #     return True  # If any subset is not frequent, return True\n",
    "\n",
    "        if not any(set(subset).issubset(set(sublist)) for sublist in prev_frequent_itemsets):\n",
    "            return True\n",
    "        \n",
    "    return False  # Otherwise, return False\n",
    "\n",
    "\n",
    "def apriori_gen(Lk_minus_1 : list[list[str]], k_1:int):\n",
    "    candidates = []\n",
    "    Lk_minus_1 = sorted(Lk_minus_1)\n",
    "    # Lk_minus_1 = [sorted(row) for row in Lk_minus_1]\n",
    "\n",
    "    # print(f\"Lk_minus_1: {Lk_minus_1}\")\n",
    "\n",
    "    for i in range(len(Lk_minus_1)):\n",
    "        for j in range(i + 1, len(Lk_minus_1)):\n",
    "            l1 = list(Lk_minus_1[i])\n",
    "            l2 = list(Lk_minus_1[j])\n",
    "\n",
    "            # print(f\"l1: {l1}, l2: {l2}\")\n",
    "\n",
    "            if l1[:k_1-1] == l2[:k_1-1] and l1[k_1-1] < l2[k_1-1]:\n",
    "                candidate = sorted(l1[:k_1-1] + [l1[k_1-1]] + [l2[k_1-1]])\n",
    "\n",
    "                # print(f\"Candidate: {candidate}\")\n",
    "\n",
    "                if not has_infrequent_subset(candidate, Lk_minus_1):\n",
    "                    candidates.append(candidate)\n",
    "    return candidates\n",
    "\n",
    "def count_support(transactions, itemset):\n",
    "    count = 0\n",
    "    itemset = set(itemset)\n",
    "    for transaction in transactions:\n",
    "        transaction_set = set(transaction)\n",
    "        if itemset.issubset(transaction_set):\n",
    "            count += 1\n",
    "    return count"
   ]
  },
  {
   "cell_type": "code",
   "execution_count": 27,
   "id": "b79f30f5",
   "metadata": {},
   "outputs": [],
   "source": [
    "def APRIORI_ALGO(Transactions, min_sup):\n",
    "    L = []\n",
    "\n",
    "    L1 = find_frequent_1_itemsets(Transactions, min_sup)\n",
    "\n",
    "    total_patterns = 0\n",
    "\n",
    "    print(L1)\n",
    "\n",
    "    # print(\"Frequent 1-itemsets:\")\n",
    "    # for itemset in L1:\n",
    "    #     print(itemset)\n",
    "    # The output will show the frequent 1-itemsets found in the dataset\n",
    "\n",
    "    L.append(L1)\n",
    "    Lk_minus_1 = L1\n",
    "\n",
    "    total_patterns += len(L1)\n",
    "\n",
    "    k = 2\n",
    "\n",
    "    # Ck = apriori_gen(Lk_minus_1, k - 1)\n",
    "    # print(f\"Candidates for {k}-itemsets: {Ck}\")\n",
    "    while Lk_minus_1:\n",
    "        # print(f\"k : {k}\")\n",
    "        Ck = apriori_gen(Lk_minus_1, k - 1)\n",
    "\n",
    "        # print(f\"len(Ck) : {len(Ck)}\")\n",
    "        # print(f\"Candidates for {k}-itemsets: {Ck}\")\n",
    "        Lk = []\n",
    "        for candidate in Ck:\n",
    "            if count_support(Transactions, candidate) >= min_sup:\n",
    "                Lk.append(list(sorted(candidate)))\n",
    "        if not Lk:\n",
    "            break\n",
    "        L.append(Lk)\n",
    "\n",
    "        # print(f\"len(Lk) : {len(Lk)}\")\n",
    "        total_patterns += len(Lk)\n",
    "\n",
    "        Lk_minus_1 = Lk\n",
    "        \n",
    "        # print(f\"#####  Frequent {k}-itemsets: {Lk}\")\n",
    "\n",
    "        k += 1\n",
    "\n",
    "    print(f\"L : {L}\")\n",
    "    print(f\"LEN(L) : {total_patterns}\")"
   ]
  },
  {
   "cell_type": "code",
   "execution_count": 28,
   "id": "96540d06",
   "metadata": {},
   "outputs": [
    {
     "name": "stdout",
     "output_type": "stream",
     "text": [
      "[(1,), (2,), (3,), (4,), (5,)]\n",
      "L : [[(1,), (2,), (3,), (4,), (5,)], [[1, 2], [1, 3], [1, 5], [2, 3], [2, 4], [2, 5]], [[1, 2, 3], [1, 2, 5]]]\n",
      "LEN(L) : 13\n"
     ]
    }
   ],
   "source": [
    "import math\n",
    "\n",
    "filepath = 'Datasets/sample.txt'\n",
    "Transactions = read_dataset(filepath) \n",
    "min_sup = math.ceil(0.20 * len(Transactions))\n",
    "\n",
    "APRIORI_ALGO(Transactions=Transactions, min_sup=min_sup)\n"
   ]
  }
 ],
 "metadata": {
  "kernelspec": {
   "display_name": "myenv",
   "language": "python",
   "name": "python3"
  },
  "language_info": {
   "codemirror_mode": {
    "name": "ipython",
    "version": 3
   },
   "file_extension": ".py",
   "mimetype": "text/x-python",
   "name": "python",
   "nbconvert_exporter": "python",
   "pygments_lexer": "ipython3",
   "version": "3.12.3"
  }
 },
 "nbformat": 4,
 "nbformat_minor": 5
}
